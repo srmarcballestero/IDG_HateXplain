{
 "cells": [
  {
   "cell_type": "raw",
   "metadata": {
    "vscode": {
     "languageId": "raw"
    }
   },
   "source": [
    "\"\"\"Select and preprocess data.\n",
    "\n",
    "* @File    :   2_select_and_preprocess_data.ipynb\n",
    "* @Time    :   2025/03/26 10:23:47\n",
    "* @Author  :   Marc Ballestero Ribó\n",
    "* @Version :   0\n",
    "* @Contact :   marcballesteroribo@gmail.com\n",
    "* @License :   MIT\n",
    "* @Desc    :   None\n",
    "\"\"\"\n"
   ]
  },
  {
   "cell_type": "markdown",
   "metadata": {},
   "source": [
    "# 2. Select and preprocess data\n",
    "\n",
    "This notebook, part of the ETL phase of the project, performs the following steps:\n",
    "\n",
    "1. Load the original HateXplain dataset.\n",
    "2. Analyze the agreement in labelling between annotators.\n",
    "3. Select the instances where two or three annotators agree, and decide the label by majority voting.\n",
    "4. Only keep the instances labeled as \"normal\" or \"hatespeech\", to create a dataset for a binary classification task.\n",
    "5. Save this preprocessed dataset for descriptive analysis.\n",
    "6. Split the dataset into train, validation and test and save for posterior use."
   ]
  },
  {
   "cell_type": "code",
   "execution_count": null,
   "metadata": {},
   "outputs": [],
   "source": [
    "# Necessary imports\n",
    "import json\n",
    "import numpy as np\n",
    "import polars as pl\n",
    "import re\n",
    "import sys\n",
    "import unicodedata\n",
    "\n",
    "import matplotlib.pyplot as plt\n",
    "import seaborn as sns\n",
    "\n",
    "from pathlib import Path\n",
    "\n",
    "# Get the absolute path of the project's root directory\n",
    "ROOT_DIR = Path.resolve(Path.cwd() / \"../\")\n",
    "\n",
    "# Add root directory to sys.path\n",
    "sys.path.append(str(ROOT_DIR))\n",
    "\n",
    "from src.utils.set_seed import set_seed\n",
    "\n",
    "# Set the seed for reproducibility\n",
    "rng = set_seed()\n"
   ]
  },
  {
   "cell_type": "code",
   "execution_count": null,
   "metadata": {},
   "outputs": [],
   "source": [
    "# Directory management\n",
    "DATA_DIR = ROOT_DIR / \"data\"\n",
    "NATIVE_DATA_DIR = DATA_DIR / \"native\"\n",
    "PREPROCESSED_DATA_DIR = DATA_DIR / \"preprocessed\"\n",
    "SPLITTED_DATA_DIR = DATA_DIR / \"splitted\"\n"
   ]
  },
  {
   "cell_type": "markdown",
   "metadata": {},
   "source": [
    "### 1. Load the HateXplain Dataset"
   ]
  },
  {
   "cell_type": "code",
   "execution_count": 4,
   "metadata": {},
   "outputs": [
    {
     "data": {
      "text/html": [
       "<div><style>\n",
       ".dataframe > thead > tr,\n",
       ".dataframe > tbody > tr {\n",
       "  text-align: right;\n",
       "  white-space: pre-wrap;\n",
       "}\n",
       "</style>\n",
       "<small>shape: (20_148, 5)</small><table border=\"1\" class=\"dataframe\"><thead><tr><th>post_id</th><th>labels</th><th>targets</th><th>tokens</th><th>rationales</th></tr><tr><td>str</td><td>list[str]</td><td>list[list[str]]</td><td>list[str]</td><td>list[list[f32]]</td></tr></thead><tbody><tr><td>&quot;1179055004553900032_twitter&quot;</td><td>[&quot;normal&quot;,&nbsp;&quot;normal&quot;,&nbsp;&quot;normal&quot;]</td><td>[[&quot;None&quot;],&nbsp;[&quot;None&quot;],&nbsp;[&quot;None&quot;]]</td><td>[&quot;i&quot;,&nbsp;&quot;dont&quot;,&nbsp;…&nbsp;&quot;touched&quot;]</td><td>[]</td></tr><tr><td>&quot;1179063826874032128_twitter&quot;</td><td>[&quot;normal&quot;,&nbsp;&quot;normal&quot;,&nbsp;&quot;normal&quot;]</td><td>[[&quot;None&quot;],&nbsp;[&quot;None&quot;],&nbsp;[&quot;None&quot;]]</td><td>[&quot;we&quot;,&nbsp;&quot;cannot&quot;,&nbsp;…&nbsp;&quot;forum&quot;]</td><td>[]</td></tr><tr><td>&quot;1178793830532956161_twitter&quot;</td><td>[&quot;normal&quot;,&nbsp;&quot;normal&quot;,&nbsp;&quot;hatespeech&quot;]</td><td>[[&quot;African&quot;],&nbsp;[&quot;None&quot;],&nbsp;[&quot;African&quot;]]</td><td>[&quot;nawt&quot;,&nbsp;&quot;yall&quot;,&nbsp;…&nbsp;&quot;me&quot;]</td><td>[]</td></tr><tr><td>&quot;1179088797964763136_twitter&quot;</td><td>[&quot;hatespeech&quot;,&nbsp;&quot;offensive&quot;,&nbsp;&quot;hatespeech&quot;]</td><td>[[&quot;Asian&quot;],&nbsp;[&quot;Asian&quot;],&nbsp;[&quot;Asian&quot;]]</td><td>[&quot;&lt;user&gt;&quot;,&nbsp;&quot;i&quot;,&nbsp;…&nbsp;&quot;🤔&quot;]</td><td>[[0.0,&nbsp;0.0,&nbsp;…&nbsp;0.0],&nbsp;[0.0,&nbsp;0.0,&nbsp;…&nbsp;0.0],&nbsp;[0.0,&nbsp;0.0,&nbsp;…&nbsp;0.0]]</td></tr><tr><td>&quot;1179085312976445440_twitter&quot;</td><td>[&quot;hatespeech&quot;,&nbsp;&quot;hatespeech&quot;,&nbsp;&quot;offensive&quot;]</td><td>[[&quot;Caucasian&quot;,&nbsp;&quot;Women&quot;],&nbsp;[&quot;Women&quot;,&nbsp;&quot;Caucasian&quot;],&nbsp;[&quot;Women&quot;,&nbsp;&quot;Caucasian&quot;]]</td><td>[&quot;this&quot;,&nbsp;&quot;bitch&quot;,&nbsp;…&nbsp;&quot;bitches&quot;]</td><td>[[0.0,&nbsp;1.0,&nbsp;…&nbsp;0.0],&nbsp;[0.0,&nbsp;0.0,&nbsp;…&nbsp;1.0],&nbsp;[0.0,&nbsp;1.0,&nbsp;…&nbsp;1.0]]</td></tr><tr><td>&hellip;</td><td>&hellip;</td><td>&hellip;</td><td>&hellip;</td><td>&hellip;</td></tr><tr><td>&quot;9989999_gab&quot;</td><td>[&quot;offensive&quot;,&nbsp;&quot;offensive&quot;,&nbsp;&quot;normal&quot;]</td><td>[[&quot;Men&quot;,&nbsp;&quot;Women&quot;,&nbsp;&quot;Other&quot;],&nbsp;[&quot;None&quot;],&nbsp;[&quot;None&quot;]]</td><td>[&quot;if&quot;,&nbsp;&quot;ur&quot;,&nbsp;…&nbsp;&quot;😡&quot;]</td><td>[[0.0,&nbsp;0.0,&nbsp;…&nbsp;0.0],&nbsp;[0.0,&nbsp;0.0,&nbsp;…&nbsp;0.0]]</td></tr><tr><td>&quot;9990225_gab&quot;</td><td>[&quot;offensive&quot;,&nbsp;&quot;offensive&quot;,&nbsp;&quot;normal&quot;]</td><td>[[&quot;African&quot;],&nbsp;[&quot;African&quot;,&nbsp;&quot;Other&quot;],&nbsp;[&quot;None&quot;]]</td><td>[&quot;when&quot;,&nbsp;&quot;i&quot;,&nbsp;…&nbsp;&quot;ok&quot;]</td><td>[[0.0,&nbsp;0.0,&nbsp;…&nbsp;0.0],&nbsp;[0.0,&nbsp;0.0,&nbsp;…&nbsp;0.0]]</td></tr><tr><td>&quot;9991681_gab&quot;</td><td>[&quot;offensive&quot;,&nbsp;&quot;normal&quot;,&nbsp;&quot;normal&quot;]</td><td>[[&quot;Islam&quot;],&nbsp;[&quot;Other&quot;],&nbsp;[&quot;None&quot;]]</td><td>[&quot;was&quot;,&nbsp;&quot;macht&quot;,&nbsp;…&nbsp;&quot;hetzen&quot;]</td><td>[]</td></tr><tr><td>&quot;9992513_gab&quot;</td><td>[&quot;hatespeech&quot;,&nbsp;&quot;hatespeech&quot;,&nbsp;&quot;offensive&quot;]</td><td>[[&quot;Hispanic&quot;],&nbsp;[&quot;Asian&quot;],&nbsp;[&quot;Asian&quot;]]</td><td>[&quot;it&quot;,&nbsp;&quot;is&quot;,&nbsp;…&nbsp;&quot;real&quot;]</td><td>[[0.0,&nbsp;0.0,&nbsp;…&nbsp;1.0],&nbsp;[0.0,&nbsp;0.0,&nbsp;…&nbsp;1.0]]</td></tr><tr><td>&quot;9998729_gab&quot;</td><td>[&quot;hatespeech&quot;,&nbsp;&quot;offensive&quot;,&nbsp;&quot;offensive&quot;]</td><td>[[&quot;African&quot;,&nbsp;&quot;Islam&quot;],&nbsp;[&quot;Islam&quot;,&nbsp;&quot;Jewish&quot;],&nbsp;[&quot;African&quot;,&nbsp;&quot;Islam&quot;,&nbsp;&quot;Jewish&quot;]]</td><td>[&quot;the&quot;,&nbsp;&quot;jewish&quot;,&nbsp;…&nbsp;&quot;attacks&quot;]</td><td>[[0.0,&nbsp;0.0,&nbsp;…&nbsp;0.0],&nbsp;[0.0,&nbsp;0.0,&nbsp;…&nbsp;1.0]]</td></tr></tbody></table></div>"
      ],
      "text/plain": [
       "shape: (20_148, 5)\n",
       "┌───────────────────┬───────────────────┬───────────────────┬───────────────────┬──────────────────┐\n",
       "│ post_id           ┆ labels            ┆ targets           ┆ tokens            ┆ rationales       │\n",
       "│ ---               ┆ ---               ┆ ---               ┆ ---               ┆ ---              │\n",
       "│ str               ┆ list[str]         ┆ list[list[str]]   ┆ list[str]         ┆ list[list[f32]]  │\n",
       "╞═══════════════════╪═══════════════════╪═══════════════════╪═══════════════════╪══════════════════╡\n",
       "│ 11790550045539000 ┆ [\"normal\",        ┆ [[\"None\"],        ┆ [\"i\", \"dont\", …   ┆ []               │\n",
       "│ 32_twitter        ┆ \"normal\",         ┆ [\"None\"],         ┆ \"touched\"]        ┆                  │\n",
       "│                   ┆ \"normal\"]         ┆ [\"None\"]]         ┆                   ┆                  │\n",
       "│ 11790638268740321 ┆ [\"normal\",        ┆ [[\"None\"],        ┆ [\"we\", \"cannot\",  ┆ []               │\n",
       "│ 28_twitter        ┆ \"normal\",         ┆ [\"None\"],         ┆ … \"forum\"]        ┆                  │\n",
       "│                   ┆ \"normal\"]         ┆ [\"None\"]]         ┆                   ┆                  │\n",
       "│ 11787938305329561 ┆ [\"normal\",        ┆ [[\"African\"],     ┆ [\"nawt\", \"yall\",  ┆ []               │\n",
       "│ 61_twitter        ┆ \"normal\",         ┆ [\"None\"], [\"Afri… ┆ … \"me\"]           ┆                  │\n",
       "│                   ┆ \"hatespee…        ┆                   ┆                   ┆                  │\n",
       "│ 11790887979647631 ┆ [\"hatespeech\",    ┆ [[\"Asian\"],       ┆ [\"<user>\", \"i\", … ┆ [[0.0, 0.0, …    │\n",
       "│ 36_twitter        ┆ \"offensive\", \"h…  ┆ [\"Asian\"],        ┆ \"🤔\"]             ┆ 0.0], [0.0,      │\n",
       "│                   ┆                   ┆ [\"Asian…          ┆                   ┆ 0.0,…            │\n",
       "│ 11790853129764454 ┆ [\"hatespeech\",    ┆ [[\"Caucasian\",    ┆ [\"this\", \"bitch\", ┆ [[0.0, 1.0, …    │\n",
       "│ 40_twitter        ┆ \"hatespeech\", \"…  ┆ \"Women\"], [\"Wom…  ┆ … \"bitches\"]      ┆ 0.0], [0.0,      │\n",
       "│                   ┆                   ┆                   ┆                   ┆ 0.0,…            │\n",
       "│ …                 ┆ …                 ┆ …                 ┆ …                 ┆ …                │\n",
       "│ 9989999_gab       ┆ [\"offensive\",     ┆ [[\"Men\", \"Women\", ┆ [\"if\", \"ur\", …    ┆ [[0.0, 0.0, …    │\n",
       "│                   ┆ \"offensive\", \"no… ┆ \"Other\"], [\"…     ┆ \"😡\"]             ┆ 0.0], [0.0,      │\n",
       "│                   ┆                   ┆                   ┆                   ┆ 0.0,…            │\n",
       "│ 9990225_gab       ┆ [\"offensive\",     ┆ [[\"African\"],     ┆ [\"when\", \"i\", …   ┆ [[0.0, 0.0, …    │\n",
       "│                   ┆ \"offensive\", \"no… ┆ [\"African\", \"Oth… ┆ \"ok\"]             ┆ 0.0], [0.0,      │\n",
       "│                   ┆                   ┆                   ┆                   ┆ 0.0,…            │\n",
       "│ 9991681_gab       ┆ [\"offensive\",     ┆ [[\"Islam\"],       ┆ [\"was\", \"macht\",  ┆ []               │\n",
       "│                   ┆ \"normal\", \"norma… ┆ [\"Other\"],        ┆ … \"hetzen\"]       ┆                  │\n",
       "│                   ┆                   ┆ [\"None\"…          ┆                   ┆                  │\n",
       "│ 9992513_gab       ┆ [\"hatespeech\",    ┆ [[\"Hispanic\"],    ┆ [\"it\", \"is\", …    ┆ [[0.0, 0.0, …    │\n",
       "│                   ┆ \"hatespeech\", \"…  ┆ [\"Asian\"], [\"As…  ┆ \"real\"]           ┆ 1.0], [0.0,      │\n",
       "│                   ┆                   ┆                   ┆                   ┆ 0.0,…            │\n",
       "│ 9998729_gab       ┆ [\"hatespeech\",    ┆ [[\"African\",      ┆ [\"the\", \"jewish\", ┆ [[0.0, 0.0, …    │\n",
       "│                   ┆ \"offensive\", \"o…  ┆ \"Islam\"],         ┆ … \"attacks\"]      ┆ 0.0], [0.0,      │\n",
       "│                   ┆                   ┆ [\"Islam…          ┆                   ┆ 0.0,…            │\n",
       "└───────────────────┴───────────────────┴───────────────────┴───────────────────┴──────────────────┘"
      ]
     },
     "metadata": {},
     "output_type": "display_data"
    }
   ],
   "source": [
    "# Load the dataframe\n",
    "df_dataset = pl.read_parquet(PREPROCESSED_DATA_DIR / \"dataset_native.parquet\")\n",
    "display(df_dataset)\n"
   ]
  },
  {
   "cell_type": "markdown",
   "metadata": {},
   "source": [
    "### 2. Check the agreement in labelling between the annotators."
   ]
  },
  {
   "cell_type": "markdown",
   "metadata": {},
   "source": [
    "As will be seen below, each data instance is labelled and analyzed by 3 independent annotators. Here, we will analyze the agreement between these annotators, in order to assign a unique label to each data instance.\n"
   ]
  },
  {
   "cell_type": "code",
   "execution_count": 5,
   "metadata": {},
   "outputs": [
    {
     "data": {
      "image/png": "[encoded data removed]",
      "text/plain": [
       "<Figure size 640x480 with 1 Axes>"
      ]
     },
     "metadata": {},
     "output_type": "display_data"
    }
   ],
   "source": [
    "# Check the agreement in labelling between the independent annotators\n",
    "df_dataset = df_dataset.with_columns(\n",
    "    pl.col(\"labels\").map_elements(lambda x: len(set(x)), return_dtype=pl.Int8).alias(\"label_agreement\")\n",
    ")\n",
    "\n",
    "value_counts = df_dataset[\"label_agreement\"].value_counts()\n",
    "x = sorted(value_counts[\"label_agreement\"].to_list())\n",
    "y = sorted(value_counts[\"count\"].to_list())\n",
    "\n",
    "plt.bar(x[::-1], y)\n",
    "plt.text(3, y[0] + 400, f\"{y[0]}\", ha=\"center\", va=\"top\")\n",
    "plt.text(2, y[1] + 400, f\"{y[1]}\", ha=\"center\", va=\"top\")\n",
    "plt.text(1, y[2] + 400, f\"{y[2]}\", ha=\"center\", va=\"top\")\n",
    "plt.xlabel(\"Agreement between annotators\")\n",
    "plt.ylabel(\"Count\")\n",
    "\n",
    "plt.xticks([1, 2, 3], labels=[\"3 agree\", \"2 agree\", \"all disagree\"])\n",
    "\n",
    "plt.title(\"Agreement in Labelling\")\n",
    "plt.show()\n"
   ]
  },
  {
   "cell_type": "markdown",
   "metadata": {},
   "source": [
    "As we can see, the number of instances where all three annotators disagree in the labelling ins residual. We will ignore these instances and work only with the ones where two or three annotators agree."
   ]
  },
  {
   "cell_type": "markdown",
   "metadata": {},
   "source": [
    "### 3. Select the instances where two or three annotators agree, and decide the label by majority voting.\n",
    "\n",
    "Here, we select only the instances where two or three annotators agree, and compute the unique label of the instance by majority voting."
   ]
  },
  {
   "cell_type": "code",
   "execution_count": 6,
   "metadata": {},
   "outputs": [
    {
     "name": "stderr",
     "output_type": "stream",
     "text": [
      "/tmp/ipykernel_46101/2294918788.py:6: MapWithoutReturnDtypeWarning: Calling `map_elements` without specifying `return_dtype` can lead to unpredictable results. Specify `return_dtype` to silence this warning.\n",
      "  df_dataset = df_dataset.with_columns(\n"
     ]
    },
    {
     "data": {
      "text/html": [
       "<div><style>\n",
       ".dataframe > thead > tr,\n",
       ".dataframe > tbody > tr {\n",
       "  text-align: right;\n",
       "  white-space: pre-wrap;\n",
       "}\n",
       "</style>\n",
       "<small>shape: (5, 5)</small><table border=\"1\" class=\"dataframe\"><thead><tr><th>post_id</th><th>label</th><th>targets</th><th>tokens</th><th>rationales</th></tr><tr><td>str</td><td>str</td><td>list[list[str]]</td><td>list[str]</td><td>list[list[f32]]</td></tr></thead><tbody><tr><td>&quot;1179055004553900032_twitter&quot;</td><td>&quot;normal&quot;</td><td>[[&quot;None&quot;],&nbsp;[&quot;None&quot;],&nbsp;[&quot;None&quot;]]</td><td>[&quot;i&quot;,&nbsp;&quot;dont&quot;,&nbsp;…&nbsp;&quot;touched&quot;]</td><td>[]</td></tr><tr><td>&quot;1179063826874032128_twitter&quot;</td><td>&quot;normal&quot;</td><td>[[&quot;None&quot;],&nbsp;[&quot;None&quot;],&nbsp;[&quot;None&quot;]]</td><td>[&quot;we&quot;,&nbsp;&quot;cannot&quot;,&nbsp;…&nbsp;&quot;forum&quot;]</td><td>[]</td></tr><tr><td>&quot;1178793830532956161_twitter&quot;</td><td>&quot;normal&quot;</td><td>[[&quot;African&quot;],&nbsp;[&quot;None&quot;],&nbsp;[&quot;African&quot;]]</td><td>[&quot;nawt&quot;,&nbsp;&quot;yall&quot;,&nbsp;…&nbsp;&quot;me&quot;]</td><td>[]</td></tr><tr><td>&quot;1179088797964763136_twitter&quot;</td><td>&quot;hatespeech&quot;</td><td>[[&quot;Asian&quot;],&nbsp;[&quot;Asian&quot;],&nbsp;[&quot;Asian&quot;]]</td><td>[&quot;&lt;user&gt;&quot;,&nbsp;&quot;i&quot;,&nbsp;…&nbsp;&quot;🤔&quot;]</td><td>[[0.0,&nbsp;0.0,&nbsp;…&nbsp;0.0],&nbsp;[0.0,&nbsp;0.0,&nbsp;…&nbsp;0.0],&nbsp;[0.0,&nbsp;0.0,&nbsp;…&nbsp;0.0]]</td></tr><tr><td>&quot;1179085312976445440_twitter&quot;</td><td>&quot;hatespeech&quot;</td><td>[[&quot;Caucasian&quot;,&nbsp;&quot;Women&quot;],&nbsp;[&quot;Women&quot;,&nbsp;&quot;Caucasian&quot;],&nbsp;[&quot;Women&quot;,&nbsp;&quot;Caucasian&quot;]]</td><td>[&quot;this&quot;,&nbsp;&quot;bitch&quot;,&nbsp;…&nbsp;&quot;bitches&quot;]</td><td>[[0.0,&nbsp;1.0,&nbsp;…&nbsp;0.0],&nbsp;[0.0,&nbsp;0.0,&nbsp;…&nbsp;1.0],&nbsp;[0.0,&nbsp;1.0,&nbsp;…&nbsp;1.0]]</td></tr></tbody></table></div>"
      ],
      "text/plain": [
       "shape: (5, 5)\n",
       "┌─────────────────────┬────────────┬─────────────────────┬────────────────────┬────────────────────┐\n",
       "│ post_id             ┆ label      ┆ targets             ┆ tokens             ┆ rationales         │\n",
       "│ ---                 ┆ ---        ┆ ---                 ┆ ---                ┆ ---                │\n",
       "│ str                 ┆ str        ┆ list[list[str]]     ┆ list[str]          ┆ list[list[f32]]    │\n",
       "╞═════════════════════╪════════════╪═════════════════════╪════════════════════╪════════════════════╡\n",
       "│ 1179055004553900032 ┆ normal     ┆ [[\"None\"],          ┆ [\"i\", \"dont\", …    ┆ []                 │\n",
       "│ _twitter            ┆            ┆ [\"None\"], [\"None\"]] ┆ \"touched\"]         ┆                    │\n",
       "│ 1179063826874032128 ┆ normal     ┆ [[\"None\"],          ┆ [\"we\", \"cannot\", … ┆ []                 │\n",
       "│ _twitter            ┆            ┆ [\"None\"], [\"None\"]] ┆ \"forum\"]           ┆                    │\n",
       "│ 1178793830532956161 ┆ normal     ┆ [[\"African\"],       ┆ [\"nawt\", \"yall\", … ┆ []                 │\n",
       "│ _twitter            ┆            ┆ [\"None\"], [\"Afri…   ┆ \"me\"]              ┆                    │\n",
       "│ 1179088797964763136 ┆ hatespeech ┆ [[\"Asian\"],         ┆ [\"<user>\", \"i\", …  ┆ [[0.0, 0.0, …      │\n",
       "│ _twitter            ┆            ┆ [\"Asian\"], [\"Asian… ┆ \"🤔\"]              ┆ 0.0], [0.0, 0.0,…  │\n",
       "│ 1179085312976445440 ┆ hatespeech ┆ [[\"Caucasian\",      ┆ [\"this\", \"bitch\",  ┆ [[0.0, 1.0, …      │\n",
       "│ _twitter            ┆            ┆ \"Women\"], [\"Wom…    ┆ … \"bitches\"]       ┆ 0.0], [0.0, 0.0,…  │\n",
       "└─────────────────────┴────────────┴─────────────────────┴────────────────────┴────────────────────┘"
      ]
     },
     "execution_count": 6,
     "metadata": {},
     "output_type": "execute_result"
    }
   ],
   "source": [
    "# Only keep the samples where all annotators agree\n",
    "df_dataset = df_dataset.filter(pl.col(\"label_agreement\").is_in([1, 2]))\n",
    "df_dataset = df_dataset.drop(\"label_agreement\")\n",
    "\n",
    "# Apply majority voting to determine the final label\n",
    "df_dataset = df_dataset.with_columns(\n",
    "    pl.col(\"labels\").map_elements(lambda x: max(set(x.to_list()), key=x.to_list().count)),\n",
    ")\n",
    "\n",
    "df_dataset = df_dataset.rename({\"labels\": \"label\"})\n",
    "df_dataset.head()\n",
    "\n"
   ]
  },
  {
   "cell_type": "markdown",
   "metadata": {},
   "source": [
    "### 4. Only keep the instances labeled as \"normal\" or \"hatespeech\", to create a dataset for a binary classification task."
   ]
  },
  {
   "cell_type": "code",
   "execution_count": 7,
   "metadata": {},
   "outputs": [
    {
     "data": {
      "image/png": "[encoded data removed]",
      "text/plain": [
       "<Figure size 640x480 with 1 Axes>"
      ]
     },
     "metadata": {},
     "output_type": "display_data"
    }
   ],
   "source": [
    "# Check the distribution of the labels\n",
    "value_counts = df_dataset[\"label\"].value_counts()\n",
    "\n",
    "x = sorted(value_counts[\"label\"].to_list())\n",
    "y = sorted(value_counts[\"count\"].to_list())\n",
    "\n",
    "plt.bar(x, y)\n",
    "plt.text(0, y[0] + 400, f\"{y[0]}\", ha=\"center\", va=\"top\")\n",
    "plt.text(1, y[1] + 400, f\"{y[1]}\", ha=\"center\", va=\"top\")\n",
    "plt.text(2, y[2] + 400, f\"{y[2]}\", ha=\"center\", va=\"top\")\n",
    "\n",
    "plt.ylim(0, 8500)\n",
    "plt.xlabel(\"Label\")\n",
    "plt.ylabel(\"Count\")\n",
    "\n",
    "plt.title(\"Label Distribution\")\n",
    "plt.show()\n"
   ]
  },
  {
   "cell_type": "code",
   "execution_count": 8,
   "metadata": {},
   "outputs": [
    {
     "data": {
      "text/html": [
       "<div><style>\n",
       ".dataframe > thead > tr,\n",
       ".dataframe > tbody > tr {\n",
       "  text-align: right;\n",
       "  white-space: pre-wrap;\n",
       "}\n",
       "</style>\n",
       "<small>shape: (5, 5)</small><table border=\"1\" class=\"dataframe\"><thead><tr><th>post_id</th><th>label</th><th>targets</th><th>tokens</th><th>rationales</th></tr><tr><td>str</td><td>str</td><td>list[list[str]]</td><td>list[str]</td><td>list[list[f32]]</td></tr></thead><tbody><tr><td>&quot;1179055004553900032_twitter&quot;</td><td>&quot;normal&quot;</td><td>[[&quot;None&quot;],&nbsp;[&quot;None&quot;],&nbsp;[&quot;None&quot;]]</td><td>[&quot;i&quot;,&nbsp;&quot;dont&quot;,&nbsp;…&nbsp;&quot;touched&quot;]</td><td>[]</td></tr><tr><td>&quot;1179063826874032128_twitter&quot;</td><td>&quot;normal&quot;</td><td>[[&quot;None&quot;],&nbsp;[&quot;None&quot;],&nbsp;[&quot;None&quot;]]</td><td>[&quot;we&quot;,&nbsp;&quot;cannot&quot;,&nbsp;…&nbsp;&quot;forum&quot;]</td><td>[]</td></tr><tr><td>&quot;1178793830532956161_twitter&quot;</td><td>&quot;normal&quot;</td><td>[[&quot;African&quot;],&nbsp;[&quot;None&quot;],&nbsp;[&quot;African&quot;]]</td><td>[&quot;nawt&quot;,&nbsp;&quot;yall&quot;,&nbsp;…&nbsp;&quot;me&quot;]</td><td>[]</td></tr><tr><td>&quot;1179088797964763136_twitter&quot;</td><td>&quot;hatespeech&quot;</td><td>[[&quot;Asian&quot;],&nbsp;[&quot;Asian&quot;],&nbsp;[&quot;Asian&quot;]]</td><td>[&quot;&lt;user&gt;&quot;,&nbsp;&quot;i&quot;,&nbsp;…&nbsp;&quot;🤔&quot;]</td><td>[[0.0,&nbsp;0.0,&nbsp;…&nbsp;0.0],&nbsp;[0.0,&nbsp;0.0,&nbsp;…&nbsp;0.0],&nbsp;[0.0,&nbsp;0.0,&nbsp;…&nbsp;0.0]]</td></tr><tr><td>&quot;1179085312976445440_twitter&quot;</td><td>&quot;hatespeech&quot;</td><td>[[&quot;Caucasian&quot;,&nbsp;&quot;Women&quot;],&nbsp;[&quot;Women&quot;,&nbsp;&quot;Caucasian&quot;],&nbsp;[&quot;Women&quot;,&nbsp;&quot;Caucasian&quot;]]</td><td>[&quot;this&quot;,&nbsp;&quot;bitch&quot;,&nbsp;…&nbsp;&quot;bitches&quot;]</td><td>[[0.0,&nbsp;1.0,&nbsp;…&nbsp;0.0],&nbsp;[0.0,&nbsp;0.0,&nbsp;…&nbsp;1.0],&nbsp;[0.0,&nbsp;1.0,&nbsp;…&nbsp;1.0]]</td></tr></tbody></table></div>"
      ],
      "text/plain": [
       "shape: (5, 5)\n",
       "┌─────────────────────┬────────────┬─────────────────────┬────────────────────┬────────────────────┐\n",
       "│ post_id             ┆ label      ┆ targets             ┆ tokens             ┆ rationales         │\n",
       "│ ---                 ┆ ---        ┆ ---                 ┆ ---                ┆ ---                │\n",
       "│ str                 ┆ str        ┆ list[list[str]]     ┆ list[str]          ┆ list[list[f32]]    │\n",
       "╞═════════════════════╪════════════╪═════════════════════╪════════════════════╪════════════════════╡\n",
       "│ 1179055004553900032 ┆ normal     ┆ [[\"None\"],          ┆ [\"i\", \"dont\", …    ┆ []                 │\n",
       "│ _twitter            ┆            ┆ [\"None\"], [\"None\"]] ┆ \"touched\"]         ┆                    │\n",
       "│ 1179063826874032128 ┆ normal     ┆ [[\"None\"],          ┆ [\"we\", \"cannot\", … ┆ []                 │\n",
       "│ _twitter            ┆            ┆ [\"None\"], [\"None\"]] ┆ \"forum\"]           ┆                    │\n",
       "│ 1178793830532956161 ┆ normal     ┆ [[\"African\"],       ┆ [\"nawt\", \"yall\", … ┆ []                 │\n",
       "│ _twitter            ┆            ┆ [\"None\"], [\"Afri…   ┆ \"me\"]              ┆                    │\n",
       "│ 1179088797964763136 ┆ hatespeech ┆ [[\"Asian\"],         ┆ [\"<user>\", \"i\", …  ┆ [[0.0, 0.0, …      │\n",
       "│ _twitter            ┆            ┆ [\"Asian\"], [\"Asian… ┆ \"🤔\"]              ┆ 0.0], [0.0, 0.0,…  │\n",
       "│ 1179085312976445440 ┆ hatespeech ┆ [[\"Caucasian\",      ┆ [\"this\", \"bitch\",  ┆ [[0.0, 1.0, …      │\n",
       "│ _twitter            ┆            ┆ \"Women\"], [\"Wom…    ┆ … \"bitches\"]       ┆ 0.0], [0.0, 0.0,…  │\n",
       "└─────────────────────┴────────────┴─────────────────────┴────────────────────┴────────────────────┘"
      ]
     },
     "execution_count": 8,
     "metadata": {},
     "output_type": "execute_result"
    }
   ],
   "source": [
    "# Select only the samples with the labels \"normal\" and \"hatespeech\"\n",
    "df_dataset_2_classes = df_dataset.filter(pl.col(\"label\").is_in([\"normal\", \"hatespeech\"]))\n",
    "df_dataset_2_classes.head()\n"
   ]
  },
  {
   "cell_type": "markdown",
   "metadata": {},
   "source": [
    "### 5. Replace special unicode characters with special tokens"
   ]
  },
  {
   "cell_type": "code",
   "execution_count": 9,
   "metadata": {},
   "outputs": [],
   "source": [
    "# Replace the character `\\u200[df]` with the token `<u200[df]>`\n",
    "df_dataset_2_classes = df_dataset_2_classes.with_columns(\n",
    "    pl.col(\"tokens\").map_elements(\n",
    "        lambda tokens: [token.replace(\"\\u200d\", \"<u200d>\") for token in tokens],\n",
    "        return_dtype=pl.List(pl.String),\n",
    "        ).alias(\"tokens\"),\n",
    ")\n",
    "\n",
    "df_dataset_2_classes = df_dataset_2_classes.with_columns(\n",
    "    pl.col(\"tokens\").map_elements(\n",
    "        lambda tokens: [token.replace(\"\\u200f\", \"<u200f>\") for token in tokens],\n",
    "        return_dtype=pl.List(pl.String),\n",
    "        ).alias(\"tokens\"),\n",
    ")\n",
    "\n",
    "# Replace accented characters with the original characters\n",
    "def remove_accents(token: str) -> str:\n",
    "    \"\"\"Remove accents from tokens.\"\"\"\n",
    "    # Only process tokens that contain alphabetic characters\n",
    "    if re.search(r\"[a-zA-ZÀ-ÖØ-öø-ÿ]\", token):\n",
    "        return \"\".join(\n",
    "            c if not unicodedata.category(c).startswith(\"L\")\n",
    "            else unicodedata.normalize(\"NFKD\", c).encode(\"ASCII\", \"ignore\").decode(\"utf-8\")\n",
    "            for c in token\n",
    "        )\n",
    "    return token  # Keep other tokens unchanged\n",
    "\n",
    "\n",
    "df_dataset_2_classes = df_dataset_2_classes.with_columns(\n",
    "    pl.col(\"tokens\").map_elements(\n",
    "        lambda tokens: [remove_accents(token) for token in tokens],\n",
    "        return_dtype=pl.List(pl.String),\n",
    "        ).alias(\"tokens\"),\n",
    ")\n",
    "\n",
    "\n",
    "\n"
   ]
  },
  {
   "cell_type": "markdown",
   "metadata": {},
   "source": [
    "### 7. Generate a unique rationale from the different annotations"
   ]
  },
  {
   "cell_type": "code",
   "execution_count": 10,
   "metadata": {},
   "outputs": [],
   "source": [
    "# Take the mean of the rationales\n",
    "df_dataset_2_classes = df_dataset_2_classes.with_columns(\n",
    "    pl.col(\"rationales\").map_elements(\n",
    "        lambda rationales: (\n",
    "            np.mean(np.array(rationales), axis=0)\n",
    "            if len(rationales) > 0\n",
    "            else np.array([])\n",
    "        ),\n",
    "        return_dtype=pl.List(pl.Float32),\n",
    "    ).alias(\"rationale\"),\n",
    ")\n",
    "\n",
    "# Normalize the rationales\n",
    "df_dataset_2_classes = df_dataset_2_classes.with_columns(\n",
    "    pl.col(\"rationale\").map_elements(\n",
    "        lambda rationale: (\n",
    "            np.array(rationale, dtype=np.float32) / np.sum(np.array(rationale, dtype=np.float32))\n",
    "            if np.sum(np.array(rationale, dtype=np.float32)) > 0\n",
    "            else np.array(rationale, dtype=np.float32)\n",
    "        ),\n",
    "        return_dtype=pl.List(pl.Float32),\n",
    "    ).alias(\"rationale\"),\n",
    ")\n"
   ]
  },
  {
   "cell_type": "markdown",
   "metadata": {},
   "source": [
    "### 8. Save the preprocessed dataset"
   ]
  },
  {
   "cell_type": "code",
   "execution_count": 11,
   "metadata": {},
   "outputs": [],
   "source": [
    "df_dataset_2_classes.write_parquet(PREPROCESSED_DATA_DIR / \"dataset_preprocessed_2_classes.parquet\")\n"
   ]
  },
  {
   "cell_type": "markdown",
   "metadata": {},
   "source": [
    "### 9. Split the dataset into train, validation and test and save for posterior use\n",
    "\n",
    "We will perform the splitting of the dataset into train / validation / test sets by using the division provided by the HateXplain developers, which ensures an approximate 8:1:1 division ratio. The information of the belonging of each class to a particular subset is containted in the `post_id_divisions.json` file."
   ]
  },
  {
   "cell_type": "code",
   "execution_count": 12,
   "metadata": {},
   "outputs": [],
   "source": [
    "# Train / Validation / Test Split\n",
    "\n",
    "with Path.open(NATIVE_DATA_DIR / \"post_id_divisions.json\", \"r\") as file:\n",
    "    splits = json.load(file)\n",
    "\n",
    "train_ids = splits[\"train\"]\n",
    "val_ids = splits[\"val\"]\n",
    "test_ids = splits[\"test\"]\n"
   ]
  },
  {
   "cell_type": "code",
   "execution_count": 13,
   "metadata": {},
   "outputs": [
    {
     "data": {
      "image/png": "[encoded data removed]",
      "text/plain": [
       "<Figure size 640x480 with 1 Axes>"
      ]
     },
     "metadata": {},
     "output_type": "display_data"
    }
   ],
   "source": [
    "# Check what instances of the dataset belong to each split and create a column accounting so\n",
    "df_dataset_2_classes = df_dataset_2_classes.with_columns(\n",
    "        pl.when(\n",
    "            pl.col(\"post_id\").is_in(train_ids),\n",
    "        ).then(pl.lit(\"train\"))\n",
    "\n",
    "        .when(\n",
    "            pl.col(\"post_id\").is_in(val_ids),\n",
    "        ).then(pl.lit(\"val\"))\n",
    "\n",
    "        .when(\n",
    "            pl.col(\"post_id\").is_in(test_ids),\n",
    "        ).then(pl.lit(\"test\"))\n",
    "\n",
    "        .otherwise(pl.lit(\"unknown\"))\n",
    "\n",
    "    .alias(\"split\"),\n",
    ")\n",
    "\n",
    "value_counts = df_dataset_2_classes[\"split\"].value_counts()\n",
    "\n",
    "x = value_counts[\"split\"].to_list()\n",
    "y = value_counts[\"count\"].to_list()\n",
    "\n",
    "plt.bar(x, y)\n",
    "plt.text(0, y[0] + 400, f\"{y[0]}\", ha=\"center\", va=\"top\")\n",
    "plt.text(1, y[1] + 400, f\"{y[1]}\", ha=\"center\", va=\"top\")\n",
    "plt.text(2, y[2] + 400, f\"{y[2]}\", ha=\"center\", va=\"top\")\n",
    "\n",
    "plt.xlabel(\"Split\")\n",
    "plt.ylabel(\"Count\")\n",
    "\n",
    "plt.title(\"Split Distribution\")\n",
    "plt.show()\n"
   ]
  },
  {
   "cell_type": "code",
   "execution_count": null,
   "metadata": {},
   "outputs": [],
   "source": [
    "# Save each split as a separate parquet file\n",
    "df_train_2_classes = (\n",
    "    df_dataset_2_classes\n",
    "    .filter(pl.col(\"split\") == \"train\")\n",
    "    .drop(\"split\")\n",
    "    .sort(\"label\")\n",
    ")\n",
    "\n",
    "df_val_2_classes = (\n",
    "    df_dataset_2_classes\n",
    "    .filter(pl.col(\"split\") == \"val\")\n",
    "    .drop(\"split\")\n",
    "    .sort(\"label\")\n",
    ")\n",
    "\n",
    "df_test_2_classes = (\n",
    "    df_dataset_2_classes\n",
    "    .filter(pl.col(\"split\") == \"test\")\n",
    "    .drop(\"split\")\n",
    "    .sort(\"label\")\n",
    ")\n"
   ]
  },
  {
   "cell_type": "code",
   "execution_count": null,
   "metadata": {},
   "outputs": [],
   "source": [
    "df_train_2_classes.write_parquet(SPLITTED_DATA_DIR / \"train_2_classes.parquet\")\n",
    "df_val_2_classes.write_parquet(SPLITTED_DATA_DIR / \"val_2_classes.parquet\")\n",
    "df_test_2_classes.write_parquet(SPLITTED_DATA_DIR / \"test_2_classes.parquet\")\n"
   ]
  }
 ],
 "metadata": {
  "kernelspec": {
   "display_name": "mscthesisdl",
   "language": "python",
   "name": "python3"
  },
  "language_info": {
   "codemirror_mode": {
    "name": "ipython",
    "version": 3
   },
   "file_extension": ".py",
   "mimetype": "text/x-python",
   "name": "python",
   "nbconvert_exporter": "python",
   "pygments_lexer": "ipython3",
   "version": "3.12.8"
  }
 },
 "nbformat": 4,
 "nbformat_minor": 2
}
